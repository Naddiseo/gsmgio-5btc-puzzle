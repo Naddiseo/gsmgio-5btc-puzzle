{
 "cells": [
  {
   "cell_type": "markdown",
   "metadata": {},
   "source": [
    "# Stage 0\n",
    "\n",
    "We start with the [initial puzzle](https://www.gsmg.io/puzzle)\n",
    "\n",
    "![this image](./puzzle.png)"
   ]
  },
  {
   "cell_type": "markdown",
   "metadata": {},
   "source": [
    "The first hint given was something along the lines of \"follow the white rabbit\".\n",
    "\n",
    "We see a 14x14 matrix of squares of 4 different colours. The most important thing to recognize at this point, and the key so solving it, is that the coloured squares are always 8 sqaures apart when going counter clockwise starting at the top left. Our next leap of logic is that there are 8 bits to a byte, and we can presume that white=0 and black=1. For the yellow and blue, we can discover this programmatically. For now let's list off the colors to make it easier to solve:\n",
    "```\n",
    "00110b0010110y\n",
    "11b1001110b011\n",
    "1101110b001001\n",
    "0110b000011101\n",
    "0b1000110y0110\n",
    "100110y010y011\n",
    "100b1100010y00\n",
    "b11000000010y0\n",
    "00011b0111110b\n",
    "11b111y0110001\n",
    "1101000y011011\n",
    "11110010b01100\n",
    "0b0111010y0110\n",
    "01b0110110b011\n",
    "```\n"
   ]
  },
  {
   "cell_type": "code",
   "execution_count": 1,
   "metadata": {},
   "outputs": [
    {
     "name": "stdout",
     "output_type": "stream",
     "text": [
      "['0110011b', '0111001b', '0110110b', '0110011b', '0010111y', '0110100b', '0110111b', '0010111b', '0111010y', '0110100y', '0110010b', '0111001b', '0110010b', '0110010b', '0110010y', '0110100b', '0111001b', '0111000y', '0110110y', '0110000b', '0110111y', '0111010y', '0110010b', '0110010y', '0000']\n"
     ]
    }
   ],
   "source": [
    "lines='''00110b0010110y\n",
    "11b1001110b011\n",
    "1101110b001001\n",
    "0110b000011101\n",
    "0b1000110y0110\n",
    "100110y010y011\n",
    "100b1100010y00\n",
    "b11000000010y0\n",
    "00011b0111110b\n",
    "11b111y0110001\n",
    "1101000y011011\n",
    "11110010b01100\n",
    "0b0111010y0110\n",
    "01b0110110b011'''.split('\\n')\n",
    "\n",
    "def top(arr):\n",
    "    ''' return the top '''\n",
    "    return reversed(arr[0]), arr[1:]\n",
    "\n",
    "def left(arr):\n",
    "    ''' return the first element of each line'''\n",
    "    new_lines = []\n",
    "    out = []\n",
    "    for line in arr:\n",
    "        out.append(line[0])\n",
    "        new_lines.append(line[1:])\n",
    "    return ''.join(out), new_lines\n",
    "\n",
    "def bottom(arr):\n",
    "    '''return the bottom line'''\n",
    "    return arr[-1], arr[:-1]\n",
    "\n",
    "def right(arr):\n",
    "    '''return the last element of each line'''\n",
    "    new_lines=[]\n",
    "    out=[]\n",
    "    for line in arr:\n",
    "        out.append(line[-1])\n",
    "        new_lines.append(line[:-1])\n",
    "    return ''.join(reversed(out)), new_lines\n",
    "\n",
    "ordering = [left, bottom, right, top]\n",
    "out =[]\n",
    "while len(lines):\n",
    "    for fn in ordering:\n",
    "        tout,lines = fn(lines)\n",
    "        out.extend(tout)\n",
    "out_string=''.join(out)\n",
    "byte_strings =[out_string[i:i+8] for i in range(0, len(out_string), 8)]\n",
    "print(byte_strings)"
   ]
  },
  {
   "cell_type": "markdown",
   "metadata": {},
   "source": [
    "Now we have unravelled the binary code, we can figure out what they correspond to. The next thing to notice is that none of the bytes start with a \"1\", this is very characteristic of ascii. If we assume that they're binary representations of ascii, we can check both possibilities of yellow/blue to see if we can decide which is 1 and white is 0."
   ]
  },
  {
   "cell_type": "code",
   "execution_count": 2,
   "metadata": {},
   "outputs": [
    {
     "name": "stdout",
     "output_type": "stream",
     "text": [
      "0110011b: [('f', '01100110'), ('g', '01100111')]\n",
      "0111001b: [('r', '01110010'), ('s', '01110011')]\n",
      "0110110b: [('l', '01101100'), ('m', '01101101')]\n",
      "0110011b: [('f', '01100110'), ('g', '01100111')]\n",
      "0010111y: [('.', '00101110'), ('/', '00101111')]\n",
      "0110100b: [('h', '01101000'), ('i', '01101001')]\n",
      "0110111b: [('n', '01101110'), ('o', '01101111')]\n",
      "0010111b: [('.', '00101110'), ('/', '00101111')]\n",
      "0111010y: [('t', '01110100'), ('u', '01110101')]\n",
      "0110100y: [('h', '01101000'), ('i', '01101001')]\n",
      "0110010b: [('d', '01100100'), ('e', '01100101')]\n",
      "0111001b: [('r', '01110010'), ('s', '01110011')]\n",
      "0110010b: [('d', '01100100'), ('e', '01100101')]\n",
      "0110010b: [('d', '01100100'), ('e', '01100101')]\n",
      "0110010y: [('d', '01100100'), ('e', '01100101')]\n",
      "0110100b: [('h', '01101000'), ('i', '01101001')]\n",
      "0111001b: [('r', '01110010'), ('s', '01110011')]\n",
      "0111000y: [('p', '01110000'), ('q', '01110001')]\n",
      "0110110y: [('l', '01101100'), ('m', '01101101')]\n",
      "0110000b: [('a', '01100001'), ('`', '01100000')]\n",
      "0110111y: [('n', '01101110'), ('o', '01101111')]\n",
      "0111010y: [('t', '01110100'), ('u', '01110101')]\n",
      "0110010b: [('d', '01100100'), ('e', '01100101')]\n",
      "0110010y: [('d', '01100100'), ('e', '01100101')]\n",
      "0000: []\n"
     ]
    }
   ],
   "source": [
    "import string\n",
    "# the binary representation of all the printable ascii\n",
    "ascii_bytes = {c: bin(ord(c))[2:].rjust(8,'0') for c in string.printable}\n",
    "\n",
    "# for each unknown byte, what printable ascii has a prefix match?\n",
    "for unknown_byte in byte_strings:\n",
    "    possible = [(c,binrep) for c,binrep in ascii_bytes.items() if unknown_byte.startswith(binrep[:7])]\n",
    "    print(f\"{unknown_byte}: {possible}\")\n"
   ]
  },
  {
   "cell_type": "markdown",
   "metadata": {},
   "source": [
    "Ok, so that isn't quite enough information to easily determine the values of yellow, and blue, however we do see that if b == 1 the first few bytes are \"gsmg\" which is the url we found the image at, and looking at the next few bytes, we can see if y==0, then we get \"gsmg.io\" the url of the puzzle image. \n",
    "Let's try it:"
   ]
  },
  {
   "cell_type": "code",
   "execution_count": 3,
   "metadata": {},
   "outputs": [
    {
     "name": "stdout",
     "output_type": "stream",
     "text": [
      "gsmg.io/theseedisplanted\u0000\n"
     ]
    }
   ],
   "source": [
    "import binascii\n",
    "\n",
    "def translate(s):\n",
    "    return s.replace('b','1').replace('y','0')\n",
    "\n",
    "def to_ascii(binary_string):\n",
    "    return int(binary_string, 2).to_bytes(1, 'little').decode()\n",
    "\n",
    "translated = map(translate, byte_strings)\n",
    "characters = map(to_ascii, translated)\n",
    "\n",
    "print(''.join(characters))"
   ]
  },
  {
   "cell_type": "markdown",
   "metadata": {},
   "source": [
    "And now we have the url to [phase1](http://gsmg.io/theseedisplanted)\n",
    "\n",
    "Go to [Walkthrough for Phase 1](/phase1.ipynb)"
   ]
  }
 ],
 "metadata": {
  "kernelspec": {
   "display_name": "Python 3",
   "language": "python",
   "name": "python3"
  },
  "language_info": {
   "codemirror_mode": {
    "name": "ipython",
    "version": 3
   },
   "file_extension": ".py",
   "mimetype": "text/x-python",
   "name": "python",
   "nbconvert_exporter": "python",
   "pygments_lexer": "ipython3",
   "version": "3.10.8"
  },
  "orig_nbformat": 4
 },
 "nbformat": 4,
 "nbformat_minor": 2
}
